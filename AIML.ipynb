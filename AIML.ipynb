{
 "cells": [
  {
   "cell_type": "code",
   "execution_count": 2,
   "id": "75b00869-3b8a-4b1f-be97-7caf9355ab1e",
   "metadata": {},
   "outputs": [],
   "source": [
    "# PYTHON PRACTICE USING JUPYTER"
   ]
  },
  {
   "cell_type": "code",
   "execution_count": 2,
   "id": "fe110da3-afc4-42cf-9762-8fefc6bcb610",
   "metadata": {},
   "outputs": [
    {
     "name": "stdin",
     "output_type": "stream",
     "text": [
      " 3\n",
      " 5\n",
      " 6\n",
      " 7\n"
     ]
    },
    {
     "name": "stdout",
     "output_type": "stream",
     "text": [
      "THE REVERSED LIST IS: \n",
      "[7, 6, 5]\n"
     ]
    }
   ],
   "source": [
    "def reverse(lst):\n",
    "    l=[]\n",
    "    for i in range(0, len(lst)):\n",
    "       l.append(lst[len(lst)-i-1])\n",
    "    print(l)\n",
    "n=int(input())\n",
    "lst=[]\n",
    "for i in range(0, n):\n",
    "    lst.append(int(input()))\n",
    "print(\"THE REVERSED LIST IS: \")\n",
    "reverse(lst)"
   ]
  },
  {
   "cell_type": "code",
   "execution_count": 4,
   "id": "1dfbad8f-abab-4fe2-9572-4ee3259cee41",
   "metadata": {},
   "outputs": [
    {
     "name": "stdin",
     "output_type": "stream",
     "text": [
      " 5\n"
     ]
    },
    {
     "name": "stdout",
     "output_type": "stream",
     "text": [
      "45\n",
      "45\n",
      "45\n",
      "45\n",
      "45\n"
     ]
    }
   ],
   "source": [
    "def sum_numbers():\n",
    "    res = 0\n",
    "    for i in range(1, 10):\n",
    "        res += i\n",
    "    print(res)\n",
    "\n",
    "n = int(input())\n",
    "for i in range(n):\n",
    "    sum_numbers()"
   ]
  },
  {
   "cell_type": "code",
   "execution_count": 2,
   "id": "254485be-0e7c-4618-8308-4eb8f17eab8e",
   "metadata": {},
   "outputs": [
    {
     "name": "stdin",
     "output_type": "stream",
     "text": [
      " 5\n"
     ]
    },
    {
     "name": "stdout",
     "output_type": "stream",
     "text": [
      "THE SQUARE IS:  25\n"
     ]
    }
   ],
   "source": [
    "def square(n):\n",
    "    return n*n\n",
    "n=int(input())\n",
    "s=square(n)\n",
    "print(\"THE SQUARE IS: \",s)"
   ]
  },
  {
   "cell_type": "code",
   "execution_count": 6,
   "id": "0e7b9955-9fbe-42ae-844e-ef811d3b8639",
   "metadata": {},
   "outputs": [
    {
     "name": "stdout",
     "output_type": "stream",
     "text": [
      "ENTER NO OF ELEMENTS:\n"
     ]
    },
    {
     "name": "stdin",
     "output_type": "stream",
     "text": [
      " 4\n"
     ]
    },
    {
     "name": "stdout",
     "output_type": "stream",
     "text": [
      "ENTER ELEMENTS : \n"
     ]
    },
    {
     "name": "stdin",
     "output_type": "stream",
     "text": [
      " 2\n",
      " 3\n",
      " 4\n",
      " 5\n"
     ]
    },
    {
     "name": "stdout",
     "output_type": "stream",
     "text": [
      "THE LIST IS : \n",
      "[2, 3, 4, 5]\n"
     ]
    }
   ],
   "source": [
    "print(\"ENTER NO OF ELEMENTS:\")\n",
    "n=int(input())\n",
    "print(\"ENTER ELEMENTS : \")\n",
    "lst=[]\n",
    "for i in range(0, n):\n",
    "    lst.append(int(input()))\n",
    "print(\"THE LIST IS : \")\n",
    "print(lst)"
   ]
  },
  {
   "cell_type": "code",
   "execution_count": 3,
   "id": "4d9bb247-95fa-4a85-81c0-1a30d627d0cb",
   "metadata": {},
   "outputs": [
    {
     "name": "stdout",
     "output_type": "stream",
     "text": [
      "1.Even number check\n",
      "2.Factorial\n",
      "3.Reverse of number\n",
      "4.Palindrome check\n",
      "5.GCD of two numbers\n",
      "6.EXIT\n"
     ]
    },
    {
     "name": "stdin",
     "output_type": "stream",
     "text": [
      "ENTER CHOICE:  0\n"
     ]
    },
    {
     "name": "stdout",
     "output_type": "stream",
     "text": [
      "ENTER VALID OPTION!\n",
      "1.Even number check\n",
      "2.Factorial\n",
      "3.Reverse of number\n",
      "4.Palindrome check\n",
      "5.GCD of two numbers\n",
      "6.EXIT\n"
     ]
    },
    {
     "name": "stdin",
     "output_type": "stream",
     "text": [
      "ENTER CHOICE:  1\n",
      "ENTER NUMBER:  4\n"
     ]
    },
    {
     "name": "stdout",
     "output_type": "stream",
     "text": [
      "True\n",
      "1.Even number check\n",
      "2.Factorial\n",
      "3.Reverse of number\n",
      "4.Palindrome check\n",
      "5.GCD of two numbers\n",
      "6.EXIT\n"
     ]
    },
    {
     "name": "stdin",
     "output_type": "stream",
     "text": [
      "ENTER CHOICE:  2\n",
      "ENTER NUMBER:  5\n"
     ]
    },
    {
     "name": "stdout",
     "output_type": "stream",
     "text": [
      "120\n",
      "1.Even number check\n",
      "2.Factorial\n",
      "3.Reverse of number\n",
      "4.Palindrome check\n",
      "5.GCD of two numbers\n",
      "6.EXIT\n"
     ]
    },
    {
     "name": "stdin",
     "output_type": "stream",
     "text": [
      "ENTER CHOICE:  3\n",
      "ENTER NUMBER:  345\n"
     ]
    },
    {
     "name": "stdout",
     "output_type": "stream",
     "text": [
      "543\n",
      "1.Even number check\n",
      "2.Factorial\n",
      "3.Reverse of number\n",
      "4.Palindrome check\n",
      "5.GCD of two numbers\n",
      "6.EXIT\n"
     ]
    },
    {
     "name": "stdin",
     "output_type": "stream",
     "text": [
      "ENTER CHOICE:  4\n",
      "ENTER NUMBER:  121\n"
     ]
    },
    {
     "name": "stdout",
     "output_type": "stream",
     "text": [
      "True\n",
      "1.Even number check\n",
      "2.Factorial\n",
      "3.Reverse of number\n",
      "4.Palindrome check\n",
      "5.GCD of two numbers\n",
      "6.EXIT\n"
     ]
    },
    {
     "name": "stdin",
     "output_type": "stream",
     "text": [
      "ENTER CHOICE:  5\n",
      "ENTER 1 ST NUMBER:  18\n",
      "ENTER 2 ND NUMBER:  12\n"
     ]
    },
    {
     "name": "stdout",
     "output_type": "stream",
     "text": [
      "6\n",
      "1.Even number check\n",
      "2.Factorial\n",
      "3.Reverse of number\n",
      "4.Palindrome check\n",
      "5.GCD of two numbers\n",
      "6.EXIT\n"
     ]
    },
    {
     "name": "stdin",
     "output_type": "stream",
     "text": [
      "ENTER CHOICE:  6\n"
     ]
    },
    {
     "name": "stdout",
     "output_type": "stream",
     "text": [
      "EXITED SUCCESSFULLY!\n"
     ]
    }
   ],
   "source": [
    "def is_even(n):\n",
    "    return n%2==0\n",
    "def fact(n):\n",
    "    if n==0:\n",
    "        return 1\n",
    "    else:\n",
    "        return n*fact(n-1)\n",
    "def reverse(n):\n",
    "    rev=0\n",
    "    while n>0:\n",
    "        r=n%10\n",
    "        rev=rev*10+r\n",
    "        n //= 10\n",
    "    return rev\n",
    "def palindrome(n):\n",
    "    return n==reverse(n)\n",
    "def gcd(a, b):\n",
    "    while b:\n",
    "        a, b =b, a%b\n",
    "    return a\n",
    "while True:\n",
    "    print(\"1.Even number check\\n2.Factorial\\n3.Reverse of number\\n4.Palindrome check\\n5.GCD of two numbers\\n6.EXIT\")\n",
    "    c=int(input(\"ENTER CHOICE: \"))\n",
    "    if c==0 or c>6:\n",
    "        print(\"ENTER VALID OPTION!\")\n",
    "        continue\n",
    "    if c>0 and c<5:\n",
    "        n=int(input(\"ENTER NUMBER: \"))\n",
    "    if c==1:\n",
    "        print(is_even(n))\n",
    "    elif c==2:\n",
    "        print(fact(n))\n",
    "    elif c==3:\n",
    "        print(reverse(n))\n",
    "    elif c==4:\n",
    "        print(palindrome(n))\n",
    "    elif c==5:\n",
    "        a=int(input(\"ENTER 1 ST NUMBER: \"))\n",
    "        b=int(input(\"ENTER 2 ND NUMBER: \"))\n",
    "        print(gcd(a, b))\n",
    "    else:\n",
    "        print(\"EXITED SUCCESSFULLY!\")\n",
    "        break"
   ]
  },
  {
   "cell_type": "code",
   "execution_count": 1,
   "id": "94a54658-2225-4740-abe4-4bc3b35dd0f9",
   "metadata": {},
   "outputs": [
    {
     "name": "stdin",
     "output_type": "stream",
     "text": [
      "ENTER STRING:  PYTHON\n"
     ]
    },
    {
     "name": "stdout",
     "output_type": "stream",
     "text": [
      "Original :  PYTHON\n",
      "Reversed :  NOHTYP\n",
      "Length : 6\n",
      "No of vowels : 1\n",
      "No of consonants : 5\n",
      "Palindrome : No\n"
     ]
    }
   ],
   "source": [
    "s=input(\"ENTER STRING: \")\n",
    "rev=s[::-1]\n",
    "vowels='aeiouAEIOU'\n",
    "vc=0\n",
    "cc=0\n",
    "for char in s:\n",
    "    if char in vowels:\n",
    "        vc += 1\n",
    "    else:\n",
    "        cc += 1\n",
    "if s==rev:\n",
    "    pal='Yes'\n",
    "else:\n",
    "    pal='No'\n",
    "print(\"Original : \",s)\n",
    "print(\"Reversed : \",rev)\n",
    "print(\"Length :\",len(s))\n",
    "print(\"No of vowels :\",vc)\n",
    "print(\"No of consonants :\",cc)\n",
    "print(\"Palindrome :\",pal)"
   ]
  },
  {
   "cell_type": "code",
   "execution_count": 7,
   "id": "e5718205-4e6c-4a8f-b8f0-ac53857e7d06",
   "metadata": {},
   "outputs": [
    {
     "name": "stdin",
     "output_type": "stream",
     "text": [
      "ENTER STRING:  Hello there, how are you? Bye\n"
     ]
    },
    {
     "name": "stdout",
     "output_type": "stream",
     "text": [
      "Hello there, how are you? Bye\n",
      "HELLO THERE, HOW ARE YOU? BYE\n",
      "hello there, how are you? bye\n",
      "Hello there, how are you? bye\n",
      "6\n",
      "Hello-there,-how-are-you?-Bye\n",
      "True\n",
      "True\n"
     ]
    }
   ],
   "source": [
    "s=input(\"ENTER STRING: \")\n",
    "print(s)\n",
    "print(s.upper())\n",
    "print(s.lower())\n",
    "print(s.capitalize())\n",
    "print(s.count(\" \")+1)\n",
    "print(s.replace(\" \",\"-\"))\n",
    "print(s.startswith(\"Hello\"))\n",
    "print(s.endswith(\"Bye\"))"
   ]
  },
  {
   "cell_type": "code",
   "execution_count": 5,
   "id": "51030e7f-5b89-4939-a570-9be610c32ea0",
   "metadata": {},
   "outputs": [
    {
     "name": "stdin",
     "output_type": "stream",
     "text": [
      "ENTER STRING:  I AM SIDDIK ANISETTI AIML STUDENT\n"
     ]
    },
    {
     "name": "stdout",
     "output_type": "stream",
     "text": [
      "REVERSED SENTENCE: STUDENT AIML ANISETTI SIDDIK AM I\n"
     ]
    }
   ],
   "source": [
    "s=input(\"ENTER STRING: \")\n",
    "sep=s.split()\n",
    "rw=sep[::-1]\n",
    "rs=' '.join(rw)\n",
    "print(\"REVERSED SENTENCE:\", rs)"
   ]
  },
  {
   "cell_type": "code",
   "execution_count": 7,
   "id": "5c9031cb-027b-4200-8e22-c0a82e808f9f",
   "metadata": {},
   "outputs": [
    {
     "name": "stdin",
     "output_type": "stream",
     "text": [
      "ENTER STRING:  SIDDIK ANISETTI CSM\n"
     ]
    },
    {
     "name": "stdout",
     "output_type": "stream",
     "text": [
      "ORIGINAL: SIDDIK ANISETTI CSM\n",
      "UPPER CASE: SIDDIK ANISETTI CSM\n",
      "LOWER CASE siddik anisetti csm\n",
      "CAPITALIZE: Siddik anisetti csm\n",
      "NO OF WORDS: 3\n",
      "SEPARATE WITH -: SIDDIK-ANISETTI-CSM\n",
      "IS STARTED WITH 'Hello' False\n",
      "IS ENDED WITH 'Bye' False\n",
      "REVERSED SENTENCE: CSM ANISETTI SIDDIK\n"
     ]
    }
   ],
   "source": [
    "s=input(\"ENTER STRING: \")\n",
    "print(\"ORIGINAL:\",s)\n",
    "print(\"UPPER CASE:\",s.upper())\n",
    "print(\"LOWER CASE\",s.lower())\n",
    "print(\"CAPITALIZE:\",s.capitalize())\n",
    "print(\"NO OF WORDS:\",s.count(\" \")+1)\n",
    "print(\"SEPARATE WITH -:\",s.replace(\" \",\"-\"))\n",
    "print(\"IS STARTED WITH \\'Hello\\'\",s.startswith(\"Hello\"))\n",
    "print(\"IS ENDED WITH \\'Bye\\'\",s.endswith(\"Bye\"))\n",
    "sep=s.split()\n",
    "rw=sep[::-1]\n",
    "rs=' '.join(rw)\n",
    "print(\"REVERSED SENTENCE:\", rs)"
   ]
  },
  {
   "cell_type": "code",
   "execution_count": null,
   "id": "fcf6c8a9-000d-4aca-8653-ec99d586859d",
   "metadata": {},
   "outputs": [],
   "source": []
  }
 ],
 "metadata": {
  "kernelspec": {
   "display_name": "Python 3 (ipykernel)",
   "language": "python",
   "name": "python3"
  },
  "language_info": {
   "codemirror_mode": {
    "name": "ipython",
    "version": 3
   },
   "file_extension": ".py",
   "mimetype": "text/x-python",
   "name": "python",
   "nbconvert_exporter": "python",
   "pygments_lexer": "ipython3",
   "version": "3.13.5"
  }
 },
 "nbformat": 4,
 "nbformat_minor": 5
}
