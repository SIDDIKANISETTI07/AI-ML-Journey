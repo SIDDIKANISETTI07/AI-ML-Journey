{
 "cells": [
  {
   "cell_type": "code",
   "execution_count": 2,
   "id": "75b00869-3b8a-4b1f-be97-7caf9355ab1e",
   "metadata": {},
   "outputs": [],
   "source": [
    "# PYTHON PRACTICE USING JUPYTER"
   ]
  },
  {
   "cell_type": "code",
   "execution_count": 2,
   "id": "fe110da3-afc4-42cf-9762-8fefc6bcb610",
   "metadata": {},
   "outputs": [
    {
     "name": "stdin",
     "output_type": "stream",
     "text": [
      " 3\n",
      " 5\n",
      " 6\n",
      " 7\n"
     ]
    },
    {
     "name": "stdout",
     "output_type": "stream",
     "text": [
      "THE REVERSED LIST IS: \n",
      "[7, 6, 5]\n"
     ]
    }
   ],
   "source": [
    "def reverse(lst):\n",
    "    l=[]\n",
    "    for i in range(0, len(lst)):\n",
    "       l.append(lst[len(lst)-i-1])\n",
    "    print(l)\n",
    "n=int(input())\n",
    "lst=[]\n",
    "for i in range(0, n):\n",
    "    lst.append(int(input()))\n",
    "print(\"THE REVERSED LIST IS: \")\n",
    "reverse(lst)"
   ]
  },
  {
   "cell_type": "code",
   "execution_count": 4,
   "id": "1dfbad8f-abab-4fe2-9572-4ee3259cee41",
   "metadata": {},
   "outputs": [
    {
     "name": "stdin",
     "output_type": "stream",
     "text": [
      " 5\n"
     ]
    },
    {
     "name": "stdout",
     "output_type": "stream",
     "text": [
      "45\n",
      "45\n",
      "45\n",
      "45\n",
      "45\n"
     ]
    }
   ],
   "source": [
    "def sum_numbers():\n",
    "    res = 0\n",
    "    for i in range(1, 10):\n",
    "        res += i\n",
    "    print(res)\n",
    "\n",
    "n = int(input())\n",
    "for i in range(n):\n",
    "    sum_numbers()"
   ]
  },
  {
   "cell_type": "code",
   "execution_count": 2,
   "id": "254485be-0e7c-4618-8308-4eb8f17eab8e",
   "metadata": {},
   "outputs": [
    {
     "name": "stdin",
     "output_type": "stream",
     "text": [
      " 5\n"
     ]
    },
    {
     "name": "stdout",
     "output_type": "stream",
     "text": [
      "THE SQUARE IS:  25\n"
     ]
    }
   ],
   "source": [
    "def square(n):\n",
    "    return n*n\n",
    "n=int(input())\n",
    "s=square(n)\n",
    "print(\"THE SQUARE IS: \",s)"
   ]
  },
  {
   "cell_type": "code",
   "execution_count": 6,
   "id": "0e7b9955-9fbe-42ae-844e-ef811d3b8639",
   "metadata": {},
   "outputs": [
    {
     "name": "stdout",
     "output_type": "stream",
     "text": [
      "ENTER NO OF ELEMENTS:\n"
     ]
    },
    {
     "name": "stdin",
     "output_type": "stream",
     "text": [
      " 4\n"
     ]
    },
    {
     "name": "stdout",
     "output_type": "stream",
     "text": [
      "ENTER ELEMENTS : \n"
     ]
    },
    {
     "name": "stdin",
     "output_type": "stream",
     "text": [
      " 2\n",
      " 3\n",
      " 4\n",
      " 5\n"
     ]
    },
    {
     "name": "stdout",
     "output_type": "stream",
     "text": [
      "THE LIST IS : \n",
      "[2, 3, 4, 5]\n"
     ]
    }
   ],
   "source": [
    "print(\"ENTER NO OF ELEMENTS:\")\n",
    "n=int(input())\n",
    "print(\"ENTER ELEMENTS : \")\n",
    "lst=[]\n",
    "for i in range(0, n):\n",
    "    lst.append(int(input()))\n",
    "print(\"THE LIST IS : \")\n",
    "print(lst)"
   ]
  },
  {
   "cell_type": "code",
   "execution_count": 3,
   "id": "4d9bb247-95fa-4a85-81c0-1a30d627d0cb",
   "metadata": {},
   "outputs": [
    {
     "name": "stdout",
     "output_type": "stream",
     "text": [
      "1.Even number check\n",
      "2.Factorial\n",
      "3.Reverse of number\n",
      "4.Palindrome check\n",
      "5.GCD of two numbers\n",
      "6.EXIT\n"
     ]
    },
    {
     "name": "stdin",
     "output_type": "stream",
     "text": [
      "ENTER CHOICE:  0\n"
     ]
    },
    {
     "name": "stdout",
     "output_type": "stream",
     "text": [
      "ENTER VALID OPTION!\n",
      "1.Even number check\n",
      "2.Factorial\n",
      "3.Reverse of number\n",
      "4.Palindrome check\n",
      "5.GCD of two numbers\n",
      "6.EXIT\n"
     ]
    },
    {
     "name": "stdin",
     "output_type": "stream",
     "text": [
      "ENTER CHOICE:  1\n",
      "ENTER NUMBER:  4\n"
     ]
    },
    {
     "name": "stdout",
     "output_type": "stream",
     "text": [
      "True\n",
      "1.Even number check\n",
      "2.Factorial\n",
      "3.Reverse of number\n",
      "4.Palindrome check\n",
      "5.GCD of two numbers\n",
      "6.EXIT\n"
     ]
    },
    {
     "name": "stdin",
     "output_type": "stream",
     "text": [
      "ENTER CHOICE:  2\n",
      "ENTER NUMBER:  5\n"
     ]
    },
    {
     "name": "stdout",
     "output_type": "stream",
     "text": [
      "120\n",
      "1.Even number check\n",
      "2.Factorial\n",
      "3.Reverse of number\n",
      "4.Palindrome check\n",
      "5.GCD of two numbers\n",
      "6.EXIT\n"
     ]
    },
    {
     "name": "stdin",
     "output_type": "stream",
     "text": [
      "ENTER CHOICE:  3\n",
      "ENTER NUMBER:  345\n"
     ]
    },
    {
     "name": "stdout",
     "output_type": "stream",
     "text": [
      "543\n",
      "1.Even number check\n",
      "2.Factorial\n",
      "3.Reverse of number\n",
      "4.Palindrome check\n",
      "5.GCD of two numbers\n",
      "6.EXIT\n"
     ]
    },
    {
     "name": "stdin",
     "output_type": "stream",
     "text": [
      "ENTER CHOICE:  4\n",
      "ENTER NUMBER:  121\n"
     ]
    },
    {
     "name": "stdout",
     "output_type": "stream",
     "text": [
      "True\n",
      "1.Even number check\n",
      "2.Factorial\n",
      "3.Reverse of number\n",
      "4.Palindrome check\n",
      "5.GCD of two numbers\n",
      "6.EXIT\n"
     ]
    },
    {
     "name": "stdin",
     "output_type": "stream",
     "text": [
      "ENTER CHOICE:  5\n",
      "ENTER 1 ST NUMBER:  18\n",
      "ENTER 2 ND NUMBER:  12\n"
     ]
    },
    {
     "name": "stdout",
     "output_type": "stream",
     "text": [
      "6\n",
      "1.Even number check\n",
      "2.Factorial\n",
      "3.Reverse of number\n",
      "4.Palindrome check\n",
      "5.GCD of two numbers\n",
      "6.EXIT\n"
     ]
    },
    {
     "name": "stdin",
     "output_type": "stream",
     "text": [
      "ENTER CHOICE:  6\n"
     ]
    },
    {
     "name": "stdout",
     "output_type": "stream",
     "text": [
      "EXITED SUCCESSFULLY!\n"
     ]
    }
   ],
   "source": [
    "def is_even(n):\n",
    "    return n%2==0\n",
    "def fact(n):\n",
    "    if n==0:\n",
    "        return 1\n",
    "    else:\n",
    "        return n*fact(n-1)\n",
    "def reverse(n):\n",
    "    rev=0\n",
    "    while n>0:\n",
    "        r=n%10\n",
    "        rev=rev*10+r\n",
    "        n //= 10\n",
    "    return rev\n",
    "def palindrome(n):\n",
    "    return n==reverse(n)\n",
    "def gcd(a, b):\n",
    "    while b:\n",
    "        a, b =b, a%b\n",
    "    return a\n",
    "while True:\n",
    "    print(\"1.Even number check\\n2.Factorial\\n3.Reverse of number\\n4.Palindrome check\\n5.GCD of two numbers\\n6.EXIT\")\n",
    "    c=int(input(\"ENTER CHOICE: \"))\n",
    "    if c==0 or c>6:\n",
    "        print(\"ENTER VALID OPTION!\")\n",
    "        continue\n",
    "    if c>0 and c<5:\n",
    "        n=int(input(\"ENTER NUMBER: \"))\n",
    "    if c==1:\n",
    "        print(is_even(n))\n",
    "    elif c==2:\n",
    "        print(fact(n))\n",
    "    elif c==3:\n",
    "        print(reverse(n))\n",
    "    elif c==4:\n",
    "        print(palindrome(n))\n",
    "    elif c==5:\n",
    "        a=int(input(\"ENTER 1 ST NUMBER: \"))\n",
    "        b=int(input(\"ENTER 2 ND NUMBER: \"))\n",
    "        print(gcd(a, b))\n",
    "    else:\n",
    "        print(\"EXITED SUCCESSFULLY!\")\n",
    "        break"
   ]
  },
  {
   "cell_type": "code",
   "execution_count": 1,
   "id": "94a54658-2225-4740-abe4-4bc3b35dd0f9",
   "metadata": {},
   "outputs": [
    {
     "name": "stdin",
     "output_type": "stream",
     "text": [
      "ENTER STRING:  PYTHON\n"
     ]
    },
    {
     "name": "stdout",
     "output_type": "stream",
     "text": [
      "Original :  PYTHON\n",
      "Reversed :  NOHTYP\n",
      "Length : 6\n",
      "No of vowels : 1\n",
      "No of consonants : 5\n",
      "Palindrome : No\n"
     ]
    }
   ],
   "source": [
    "s=input(\"ENTER STRING: \")\n",
    "rev=s[::-1]\n",
    "vowels='aeiouAEIOU'\n",
    "vc=0\n",
    "cc=0\n",
    "for char in s:\n",
    "    if char in vowels:\n",
    "        vc += 1\n",
    "    else:\n",
    "        cc += 1\n",
    "if s==rev:\n",
    "    pal='Yes'\n",
    "else:\n",
    "    pal='No'\n",
    "print(\"Original : \",s)\n",
    "print(\"Reversed : \",rev)\n",
    "print(\"Length :\",len(s))\n",
    "print(\"No of vowels :\",vc)\n",
    "print(\"No of consonants :\",cc)\n",
    "print(\"Palindrome :\",pal)"
   ]
  },
  {
   "cell_type": "code",
   "execution_count": 7,
   "id": "e5718205-4e6c-4a8f-b8f0-ac53857e7d06",
   "metadata": {},
   "outputs": [
    {
     "name": "stdin",
     "output_type": "stream",
     "text": [
      "ENTER STRING:  Hello there, how are you? Bye\n"
     ]
    },
    {
     "name": "stdout",
     "output_type": "stream",
     "text": [
      "Hello there, how are you? Bye\n",
      "HELLO THERE, HOW ARE YOU? BYE\n",
      "hello there, how are you? bye\n",
      "Hello there, how are you? bye\n",
      "6\n",
      "Hello-there,-how-are-you?-Bye\n",
      "True\n",
      "True\n"
     ]
    }
   ],
   "source": [
    "s=input(\"ENTER STRING: \")\n",
    "print(s)\n",
    "print(s.upper())\n",
    "print(s.lower())\n",
    "print(s.capitalize())\n",
    "print(s.count(\" \")+1)\n",
    "print(s.replace(\" \",\"-\"))\n",
    "print(s.startswith(\"Hello\"))\n",
    "print(s.endswith(\"Bye\"))"
   ]
  },
  {
   "cell_type": "code",
   "execution_count": 5,
   "id": "51030e7f-5b89-4939-a570-9be610c32ea0",
   "metadata": {},
   "outputs": [
    {
     "name": "stdin",
     "output_type": "stream",
     "text": [
      "ENTER STRING:  I AM SIDDIK ANISETTI AIML STUDENT\n"
     ]
    },
    {
     "name": "stdout",
     "output_type": "stream",
     "text": [
      "REVERSED SENTENCE: STUDENT AIML ANISETTI SIDDIK AM I\n"
     ]
    }
   ],
   "source": [
    "s=input(\"ENTER STRING: \")\n",
    "sep=s.split()\n",
    "rw=sep[::-1]\n",
    "rs=' '.join(rw)\n",
    "print(\"REVERSED SENTENCE:\", rs)"
   ]
  },
  {
   "cell_type": "code",
   "execution_count": 7,
   "id": "5c9031cb-027b-4200-8e22-c0a82e808f9f",
   "metadata": {},
   "outputs": [
    {
     "name": "stdin",
     "output_type": "stream",
     "text": [
      "ENTER STRING:  SIDDIK ANISETTI CSM\n"
     ]
    },
    {
     "name": "stdout",
     "output_type": "stream",
     "text": [
      "ORIGINAL: SIDDIK ANISETTI CSM\n",
      "UPPER CASE: SIDDIK ANISETTI CSM\n",
      "LOWER CASE siddik anisetti csm\n",
      "CAPITALIZE: Siddik anisetti csm\n",
      "NO OF WORDS: 3\n",
      "SEPARATE WITH -: SIDDIK-ANISETTI-CSM\n",
      "IS STARTED WITH 'Hello' False\n",
      "IS ENDED WITH 'Bye' False\n",
      "REVERSED SENTENCE: CSM ANISETTI SIDDIK\n"
     ]
    }
   ],
   "source": [
    "s=input(\"ENTER STRING: \")\n",
    "print(\"ORIGINAL:\",s)\n",
    "print(\"UPPER CASE:\",s.upper())\n",
    "print(\"LOWER CASE\",s.lower())\n",
    "print(\"CAPITALIZE:\",s.capitalize())\n",
    "print(\"NO OF WORDS:\",s.count(\" \")+1)\n",
    "print(\"SEPARATE WITH -:\",s.replace(\" \",\"-\"))\n",
    "print(\"IS STARTED WITH \\'Hello\\'\",s.startswith(\"Hello\"))\n",
    "print(\"IS ENDED WITH \\'Bye\\'\",s.endswith(\"Bye\"))\n",
    "sep=s.split()\n",
    "rw=sep[::-1]\n",
    "rs=' '.join(rw)\n",
    "print(\"REVERSED SENTENCE:\", rs)"
   ]
  },
  {
   "cell_type": "code",
   "execution_count": 1,
   "id": "fcf6c8a9-000d-4aca-8653-ec99d586859d",
   "metadata": {},
   "outputs": [
    {
     "name": "stdin",
     "output_type": "stream",
     "text": [
      "ENTER NO OF ELE:  5\n",
      "ENTER ELE: 3\n",
      "ENTER ELE: 4\n",
      "ENTER ELE: 8\n",
      "ENTER ELE: 9\n",
      "ENTER ELE: 10\n",
      "ENTER TARGET: 18\n"
     ]
    },
    {
     "name": "stdout",
     "output_type": "stream",
     "text": [
      "RESULT: [2, 4]\n"
     ]
    }
   ],
   "source": [
    "\n",
    "n=int(input(\"ENTER NO OF ELE: \"))\n",
    "lst=[]\n",
    "for i in range(n):\n",
    "    lst.append(int(input(\"ENTER ELE:\")))\n",
    "t=int(input(\"ENTER TARGET:\"))\n",
    "for i in range(n):\n",
    "    for j in range(i+1, n):\n",
    "        if lst[i]+lst[j]==t:\n",
    "            r=[i, j]\n",
    "print(\"RESULT:\" ,r)"
   ]
  },
  {
   "cell_type": "code",
   "execution_count": 4,
   "id": "2a0fa267-1175-417d-98c4-7f34cfa0f24f",
   "metadata": {},
   "outputs": [
    {
     "name": "stdin",
     "output_type": "stream",
     "text": [
      "ENTER NO OF ELE:  5\n",
      "ENTER ELE 0:  10\n",
      "ENTER ELE 1:  20\n",
      "ENTER ELE 2:  30\n",
      "ENTER ELE 3:  40\n",
      "ENTER ELE 4:  50\n"
     ]
    },
    {
     "name": "stdout",
     "output_type": "stream",
     "text": [
      "Original tuple: (10, 20, 30, 40, 50)\n",
      "Maximum: 50\n",
      "Minimum: 10\n",
      "Reversed: (50, 40, 30, 20, 10)\n",
      "Set from tuple: {40, 10, 50, 20, 30}\n"
     ]
    },
    {
     "name": "stdin",
     "output_type": "stream",
     "text": [
      "ENTER NO TO ADD TO SET: 60\n"
     ]
    },
    {
     "name": "stdout",
     "output_type": "stream",
     "text": [
      "After adding 60: {40, 10, 50, 20, 60, 30}\n"
     ]
    },
    {
     "name": "stdin",
     "output_type": "stream",
     "text": [
      "ENTER NO OF ELE FOR 2ND SET: 4\n",
      "ENTER ELE 0: 10\n",
      "ENTER ELE 1: 20\n",
      "ENTER ELE 2: 5\n",
      "ENTER ELE 3: 15\n"
     ]
    },
    {
     "name": "stdout",
     "output_type": "stream",
     "text": [
      "Second set: {10, 20, 5, 15}\n",
      "Union: {5, 40, 10, 15, 50, 20, 60, 30}\n",
      "Intersection: {10, 20}\n",
      "Difference: {40, 50, 60, 30}\n"
     ]
    }
   ],
   "source": [
    "n=int(input(\"ENTER NO OF ELE: \"))\n",
    "lst=[]\n",
    "for i in range(n):\n",
    "    lst.append(int(input(f\"ENTER ELE {i}: \")))\n",
    "t=tuple(lst)\n",
    "print(\"Original tuple:\",t)\n",
    "print(\"Maximum:\",max(lst))\n",
    "print(\"Minimum:\",min(lst))\n",
    "print(\"Reversed:\",tuple(lst[::-1]))\n",
    "s=set(t)\n",
    "print(\"Set from tuple:\",s)\n",
    "a=int(input(\"ENTER NO TO ADD TO SET:\"))\n",
    "s.add(a)\n",
    "print(f\"After adding {a}:\",s)\n",
    "lst2=[]\n",
    "n2=int(input(\"ENTER NO OF ELE FOR 2ND SET:\"))\n",
    "for i in range(n2):\n",
    "    lst2.append(int(input(f\"ENTER ELE {i}:\")))\n",
    "s2=set(lst2)\n",
    "print(\"Second set:\",s2)\n",
    "print(\"Union:\",s.union(s2))\n",
    "print(\"Intersection:\",s.intersection(s2))\n",
    "print(\"Difference:\",s.difference(s2))"
   ]
  },
  {
   "cell_type": "code",
   "execution_count": 3,
   "id": "f53df43c-c9dc-45fb-9752-d4bf60fb6a16",
   "metadata": {},
   "outputs": [
    {
     "name": "stdin",
     "output_type": "stream",
     "text": [
      "Enter name of student 1:  ALEX\n",
      "Enter marks for ALEX:  40\n",
      "Enter name of student 2:  LOKI\n",
      "Enter marks for LOKI:  50\n",
      "Enter name of student 3:  TONY\n",
      "Enter marks for TONY:  50\n",
      "Enter name of student 4:  CAP\n",
      "Enter marks for CAP:  60\n",
      "Enter name of student 5:  SIDDIK\n",
      "Enter marks for SIDDIK:  70\n"
     ]
    },
    {
     "name": "stdout",
     "output_type": "stream",
     "text": [
      "\n",
      "All Student Names:\n",
      "ALEX\n",
      "LOKI\n",
      "TONY\n",
      "CAP\n",
      "SIDDIK\n",
      "\n",
      "All Marks:\n",
      "40\n",
      "50\n",
      "50\n",
      "60\n",
      "70\n",
      "\n",
      "Highest Scorer: SIDDIK with 70 marks\n"
     ]
    }
   ],
   "source": [
    "students = {}\n",
    "\n",
    "for i in range(5):\n",
    "    name = input(f\"Enter name of student {i+1}: \")\n",
    "    marks = int(input(f\"Enter marks for {name}: \"))\n",
    "    students[name] = marks\n",
    "\n",
    "print(\"\\nAll Student Names:\")\n",
    "for name in students.keys():\n",
    "    print(name)\n",
    "\n",
    "print(\"\\nAll Marks:\")\n",
    "for marks in students.values():\n",
    "    print(marks)\n",
    "    \n",
    "high = max(students, key=students.get)\n",
    "print(f\"\\nHighest Scorer: {high} with {students[high]} marks\")\n"
   ]
  },
  {
   "cell_type": "code",
   "execution_count": 5,
   "id": "a6d2c99f-8f54-4b7e-84c4-60616198b939",
   "metadata": {},
   "outputs": [
    {
     "name": "stdin",
     "output_type": "stream",
     "text": [
      "Enter a sentence: PYTHON IS PYTHON WHICH IS A PYTHON\n"
     ]
    },
    {
     "name": "stdout",
     "output_type": "stream",
     "text": [
      "['PYTHON', 'IS', 'PYTHON', 'WHICH', 'IS', 'A', 'PYTHON']\n",
      "\n",
      "Word Frequencies:\n",
      "PYTHON : 3\n",
      "IS : 2\n",
      "WHICH : 1\n",
      "A : 1\n"
     ]
    }
   ],
   "source": [
    "sen = input(\"Enter a sentence:\")\n",
    "words = sen.split()\n",
    "print(words)\n",
    "freq = {}\n",
    "for word in words:\n",
    "    if word in freq:\n",
    "        freq[word] += 1\n",
    "    else:\n",
    "        freq[word] = 1\n",
    "print(\"\\nWord Frequencies:\")\n",
    "for word, count in freq.items():\n",
    "    print(f\"{word} : {count}\")"
   ]
  },
  {
   "cell_type": "code",
   "execution_count": 7,
   "id": "e1b535c5-1611-464a-b2fe-f8fe510da008",
   "metadata": {},
   "outputs": [
    {
     "name": "stdin",
     "output_type": "stream",
     "text": [
      "ENTER A SENTENCE:  PYTHON PROGRAMMING\n"
     ]
    },
    {
     "name": "stdout",
     "output_type": "stream",
     "text": [
      "PYTHON PROGRAMMING\n"
     ]
    }
   ],
   "source": [
    "s=input(\"ENTER A SENTENCE: \")\n",
    "with open(\"messege.txt\", \"w\") as f:\n",
    "    f.write(s)\n",
    "with open(\"messege.txt\", \"r\") as f:\n",
    "    print(f.read())"
   ]
  },
  {
   "cell_type": "code",
   "execution_count": 10,
   "id": "f9723661-aad9-4a91-aac3-5717c554088e",
   "metadata": {},
   "outputs": [
    {
     "name": "stdin",
     "output_type": "stream",
     "text": [
      "ENTER LINE 1: PYTHON PROGRAMMING\n",
      "ENTER LINE 2: WITH JUPYTER\n",
      "ENTER LINE 3: AND GIT\n",
      "ENTER LINE 4: I LOVE TO CODE WITH PYTHON\n",
      "ENTER LINE 5: USER FRIENDLY\n"
     ]
    },
    {
     "name": "stdout",
     "output_type": "stream",
     "text": [
      "TOTAL NO OF LINES: 5\n",
      "LONGEST LINE: I LOVE TO CODE WITH PYTHON\n"
     ]
    }
   ],
   "source": [
    "with open(\"lines.txt\", \"w\") as f:\n",
    "    for i in range(5):\n",
    "        f.write(input(f\"ENTER LINE {i+1}:\"))\n",
    "        f.write(\"\\n\")\n",
    "with open(\"lines.txt\", \"r\") as f:\n",
    "    flst=f.readlines()\n",
    "flines=len(flst)\n",
    "flong=max(flst, key=len).strip()\n",
    "print(\"TOTAL NO OF LINES:\",flines)\n",
    "print(\"LONGEST LINE:\",flong)"
   ]
  },
  {
   "cell_type": "code",
   "execution_count": 5,
   "id": "d8075092-eef8-4f43-a731-0f7d92ae4bb1",
   "metadata": {},
   "outputs": [
    {
     "name": "stdin",
     "output_type": "stream",
     "text": [
      "ENTER LINE:  Python is a programming lang\n"
     ]
    },
    {
     "name": "stdout",
     "output_type": "stream",
     "text": [
      "Word frequencies:\n",
      "Python : 1\n",
      "is : 1\n",
      "a : 1\n",
      "programming : 1\n",
      "lang : 1\n"
     ]
    }
   ],
   "source": [
    "s=input(\"ENTER LINE: \")\n",
    "with open(\"sample.txt\", \"w\") as f:\n",
    "    f.write(s)\n",
    "with open(\"sample.txt\", \"r\") as f:\n",
    "    fline=f.read()\n",
    "    fwords=fline.split()\n",
    "freq={}\n",
    "for word in fwords:\n",
    "    if word in freq:\n",
    "        freq[word]+=1\n",
    "    else:\n",
    "        freq[word]=1\n",
    "print(\"Word frequencies:\")\n",
    "for word,count in freq.items():\n",
    "    print(f\"{word} : {count}\")"
   ]
  },
  {
   "cell_type": "code",
   "execution_count": 1,
   "id": "d900668a-7c79-44cd-9edf-ed7b47fd1fac",
   "metadata": {},
   "outputs": [
    {
     "name": "stdin",
     "output_type": "stream",
     "text": [
      "ENTER NO OF ELE:  4\n",
      "ENTER ELE AT INDEX 0: 3\n",
      "ENTER ELE AT INDEX 1: 6\n",
      "ENTER ELE AT INDEX 2: 5\n",
      "ENTER ELE AT INDEX 3: 2\n",
      "ENTER TARGET: 11\n"
     ]
    },
    {
     "name": "stdout",
     "output_type": "stream",
     "text": [
      "RESULT: [1, 2]\n"
     ]
    }
   ],
   "source": [
    "nums=[]\n",
    "n=int(input(\"ENTER NO OF ELE: \"))\n",
    "for i in range(n):\n",
    "    nums.append(int(input(f\"ENTER ELE AT INDEX {i}:\")))\n",
    "target=int(input(\"ENTER TARGET:\"))\n",
    "for i in range(len(nums)):\n",
    "    for j in range(i+1, len(nums)):\n",
    "        if nums[i]+nums[j]==target:\n",
    "            lst=[i, j]\n",
    "            break\n",
    "print(\"RESULT:\",lst)"
   ]
  },
  {
   "cell_type": "code",
   "execution_count": 6,
   "id": "26432e85-1f87-4dbd-bddf-aacce324a165",
   "metadata": {},
   "outputs": [
    {
     "name": "stdin",
     "output_type": "stream",
     "text": [
      "Enter first number:  34\n",
      "Enter second number:  17\n"
     ]
    },
    {
     "name": "stdout",
     "output_type": "stream",
     "text": [
      "Result: 2.0\n",
      "Program complete.\n"
     ]
    }
   ],
   "source": [
    "try:\n",
    "    a = int(input(\"Enter first number: \"))\n",
    "    b = int(input(\"Enter second number: \"))\n",
    "    result = a / b\n",
    "except ZeroDivisionError:\n",
    "    print(\"Cannot divide by zero!\")\n",
    "except ValueError:\n",
    "    print(\"Invalid input! Please enter numbers only.\")\n",
    "else:\n",
    "    print(\"Result:\", result)\n",
    "finally:\n",
    "    print(\"Program complete.\")"
   ]
  },
  {
   "cell_type": "code",
   "execution_count": 4,
   "id": "3fc915aa-4078-4669-b19b-502b52b0fa72",
   "metadata": {},
   "outputs": [
    {
     "name": "stdin",
     "output_type": "stream",
     "text": [
      "Enter a number:  2.1\n"
     ]
    },
    {
     "name": "stdout",
     "output_type": "stream",
     "text": [
      "Square root: 1.449137674618944\n",
      "Power (num^3): 9.261000000000001\n",
      "Ceil value: 3\n",
      "Floor value: 2\n",
      "Sine of num: 0.8632093666488737\n"
     ]
    }
   ],
   "source": [
    "import math\n",
    "\n",
    "num = float(input(\"Enter a number: \"))\n",
    "print(\"Square root:\", math.sqrt(num))\n",
    "print(\"Power (num^3):\", math.pow(num, 3))\n",
    "print(\"Ceil value:\", math.ceil(num))\n",
    "print(\"Floor value:\", math.floor(num))\n",
    "print(\"Sine of num:\", math.sin(num))\n"
   ]
  },
  {
   "cell_type": "code",
   "execution_count": 6,
   "id": "2da7735c-f73f-4b3c-b547-64199f1b79ef",
   "metadata": {},
   "outputs": [
    {
     "name": "stdout",
     "output_type": "stream",
     "text": [
      "Random no between 1 and 10: 6\n",
      "Random float no between 0 and 1: 0.7611902867306392\n",
      "Random choice from the list: 10\n",
      "List after shuffleing randomly: [30, 10, 40, 20]\n"
     ]
    }
   ],
   "source": [
    "import random\n",
    "\n",
    "print(\"Random no between 1 and 10:\",random.randint(1, 10))\n",
    "print(\"Random float no between 0 and 1:\",random.random())\n",
    "lst=[10, 20, 30, 40]\n",
    "print(\"Random choice from the list:\",random.choice(lst))\n",
    "random.shuffle(lst)\n",
    "print(\"List after shuffleing randomly:\",lst)"
   ]
  },
  {
   "cell_type": "code",
   "execution_count": 7,
   "id": "041bed96-92df-4b80-9ed0-9afd47ed3b22",
   "metadata": {},
   "outputs": [
    {
     "name": "stdin",
     "output_type": "stream",
     "text": [
      "Enter angle in degrees:  90\n"
     ]
    },
    {
     "name": "stdout",
     "output_type": "stream",
     "text": [
      "Sine: 1.0\n"
     ]
    }
   ],
   "source": [
    "import math\n",
    "\n",
    "deg = float(input(\"Enter angle in degrees: \"))\n",
    "rad = math.radians(deg)\n",
    "print(\"Sine:\", math.sin(rad))\n"
   ]
  },
  {
   "cell_type": "code",
   "execution_count": 7,
   "id": "da220f26-d252-413c-85ce-95e930869b20",
   "metadata": {},
   "outputs": [
    {
     "name": "stdout",
     "output_type": "stream",
     "text": [
      "Name: Syam\n",
      "Roll no: 27\n",
      "Marks: 100\n",
      "Result: PASS\n"
     ]
    }
   ],
   "source": [
    "class Student:\n",
    "    def __init__(self, name, roll, marks):\n",
    "        self.n=name\n",
    "        self.r=roll\n",
    "        self.m=marks\n",
    "    def display(self):\n",
    "        print(\"Name:\",self.n)\n",
    "        print(\"Roll no:\",self.r)\n",
    "        print(\"Marks:\",self.m)\n",
    "    def check_pass(self):\n",
    "        if self.m>=35:\n",
    "            print(\"Result: PASS\")\n",
    "        else:\n",
    "            print(\"Result: FAIL\")\n",
    "s1=Student(\"Syam\", 27, 100)\n",
    "s1.display()\n",
    "s1.check_pass()"
   ]
  },
  {
   "cell_type": "code",
   "execution_count": 6,
   "id": "7b71151c-853c-4c02-8c60-f9633d697c76",
   "metadata": {},
   "outputs": [
    {
     "name": "stdin",
     "output_type": "stream",
     "text": [
      "ENTER NAME: SYAM\n",
      "ENTER ROLL NUMBER: 1\n",
      "Enter no of subjects: 2\n",
      "Enter subject name: MATHS\n",
      "Enter marks in MATHS: 90\n",
      "Enter subject name: SCIENCE\n",
      "Enter marks in SCIENCE: 90\n"
     ]
    },
    {
     "name": "stdout",
     "output_type": "stream",
     "text": [
      "STUDENT REPORT\n",
      "Name:  SYAM\n",
      "Roll Number:  1\n",
      "MATHS: 90\n",
      "SCIENCE: 90\n",
      "Average:  90.0\n",
      "Grade:  A+\n"
     ]
    },
    {
     "name": "stdin",
     "output_type": "stream",
     "text": [
      "ENTER 1 TO ADD ANOTHER STUDENT DETAILS\n",
      "ENTER 0 TO EXIT -> 1\n",
      "ENTER NAME: SIDDIK\n",
      "ENTER ROLL NUMBER: 2\n",
      "Enter no of subjects: 2\n",
      "Enter subject name: MATHS\n",
      "Enter marks in MATHS: 90\n",
      "Enter subject name: SCIENCE\n",
      "Enter marks in SCIENCE: 90\n"
     ]
    },
    {
     "name": "stdout",
     "output_type": "stream",
     "text": [
      "STUDENT REPORT\n",
      "Name:  SIDDIK\n",
      "Roll Number:  2\n",
      "MATHS: 90\n",
      "SCIENCE: 90\n",
      "Average:  90.0\n",
      "Grade:  A+\n"
     ]
    },
    {
     "name": "stdin",
     "output_type": "stream",
     "text": [
      "ENTER 1 TO ADD ANOTHER STUDENT DETAILS\n",
      "ENTER 0 TO EXIT -> 0\n"
     ]
    }
   ],
   "source": [
    "class Student:\n",
    "    def __init__(self, name, roll, marks):\n",
    "        self.n=name\n",
    "        self.r=roll\n",
    "        self.m=marks\n",
    "    def display(self):\n",
    "        print(\"STUDENT REPORT\")\n",
    "        print(\"Name: \",self.n)\n",
    "        print(\"Roll Number: \",self.r)\n",
    "        for subject, mark in self.m.items():\n",
    "            print(f\"{subject}: {mark}\")\n",
    "        print(\"Average: \",self.avg())\n",
    "        print(\"Grade: \",self.grade())\n",
    "    def avg(self):\n",
    "        t=sum(self.m.values())\n",
    "        return t/len(self.m)\n",
    "    def grade(self):\n",
    "        a = self.avg()\n",
    "        if a>=90:\n",
    "            return 'A+'\n",
    "        elif a>=80:\n",
    "            return 'A'\n",
    "        elif a>=70:\n",
    "            return 'B'\n",
    "        elif a>=60:\n",
    "            return 'C'\n",
    "        else:\n",
    "            return 'F'\n",
    "while True:\n",
    "    name=input(\"ENTER NAME:\")\n",
    "    roll=int(input(\"ENTER ROLL NUMBER:\"))\n",
    "    s=int(input(\"Enter no of subjects:\"))\n",
    "    marks={}\n",
    "    for _ in range(s):\n",
    "        sub=input(\"Enter subject name:\")\n",
    "        mark=int(input(f\"Enter marks in {sub}:\"))\n",
    "        marks[sub]=mark\n",
    "    s1=Student(name, roll, marks)\n",
    "    s1.display()\n",
    "    c=int(input(\"ENTER 1 TO ADD ANOTHER STUDENT DETAILS\\nENTER 0 TO EXIT ->\"))\n",
    "    if c==1:\n",
    "        continue\n",
    "    else:\n",
    "        break"
   ]
  },
  {
   "cell_type": "code",
   "execution_count": 8,
   "id": "529ddc67-9fdf-4488-a572-64c87b4f2ba2",
   "metadata": {},
   "outputs": [
    {
     "name": "stdout",
     "output_type": "stream",
     "text": [
      "Student data loaded from file\n",
      "-- MENU --\n",
      "1.Add Student\n",
      "2.View all Students\n",
      "3.Search by roll number\n",
      "4.Delete a record\n",
      "5.Save to file\n",
      "6.load from file\n",
      "7.EXIT!\n"
     ]
    },
    {
     "name": "stdin",
     "output_type": "stream",
     "text": [
      "ENTER CHOICE: 3\n",
      "Enter roll number to search: 2\n"
     ]
    },
    {
     "name": "stdout",
     "output_type": "stream",
     "text": [
      "Not found!\n",
      "-- MENU --\n",
      "1.Add Student\n",
      "2.View all Students\n",
      "3.Search by roll number\n",
      "4.Delete a record\n",
      "5.Save to file\n",
      "6.load from file\n",
      "7.EXIT!\n"
     ]
    },
    {
     "name": "stdin",
     "output_type": "stream",
     "text": [
      "ENTER CHOICE: 3\n",
      "Enter roll number to search: 1\n"
     ]
    },
    {
     "name": "stdout",
     "output_type": "stream",
     "text": [
      "Record found\n",
      "Name: Syam\n",
      "Roll number: 1\n",
      "Marks: \n",
      " Maths : 90\n",
      " Science : 90\n",
      "-- MENU --\n",
      "1.Add Student\n",
      "2.View all Students\n",
      "3.Search by roll number\n",
      "4.Delete a record\n",
      "5.Save to file\n",
      "6.load from file\n",
      "7.EXIT!\n"
     ]
    },
    {
     "name": "stdin",
     "output_type": "stream",
     "text": [
      "ENTER CHOICE: 1\n",
      "Enter name: Siddik\n",
      "Enter roll number: 2\n",
      "Enter no of subjects: 2\n",
      "Enter subject name: Maths\n",
      "Enter marks in Maths: 90\n",
      "Enter subject name: Science\n",
      "Enter marks in Science: 90\n"
     ]
    },
    {
     "name": "stdout",
     "output_type": "stream",
     "text": [
      "Student added succesfully!\n",
      "-- MENU --\n",
      "1.Add Student\n",
      "2.View all Students\n",
      "3.Search by roll number\n",
      "4.Delete a record\n",
      "5.Save to file\n",
      "6.load from file\n",
      "7.EXIT!\n"
     ]
    },
    {
     "name": "stdin",
     "output_type": "stream",
     "text": [
      "ENTER CHOICE: 5\n"
     ]
    },
    {
     "name": "stdout",
     "output_type": "stream",
     "text": [
      "Student data saved to file\n",
      "-- MENU --\n",
      "1.Add Student\n",
      "2.View all Students\n",
      "3.Search by roll number\n",
      "4.Delete a record\n",
      "5.Save to file\n",
      "6.load from file\n",
      "7.EXIT!\n"
     ]
    },
    {
     "name": "stdin",
     "output_type": "stream",
     "text": [
      "ENTER CHOICE: 2\n"
     ]
    },
    {
     "name": "stdout",
     "output_type": "stream",
     "text": [
      "list of students:\n",
      "Roll Number:1, Name:Syam, Marks:{'Maths': 90, 'Science': 90}\n",
      "Roll Number:2, Name:Siddik, Marks:{'Maths': 90, 'Science': 90}\n",
      "-- MENU --\n",
      "1.Add Student\n",
      "2.View all Students\n",
      "3.Search by roll number\n",
      "4.Delete a record\n",
      "5.Save to file\n",
      "6.load from file\n",
      "7.EXIT!\n"
     ]
    },
    {
     "name": "stdin",
     "output_type": "stream",
     "text": [
      "ENTER CHOICE: 4\n",
      "Enter roll number to delete: 1\n"
     ]
    },
    {
     "name": "stdout",
     "output_type": "stream",
     "text": [
      "Student deleted successfully!\n",
      "-- MENU --\n",
      "1.Add Student\n",
      "2.View all Students\n",
      "3.Search by roll number\n",
      "4.Delete a record\n",
      "5.Save to file\n",
      "6.load from file\n",
      "7.EXIT!\n"
     ]
    },
    {
     "name": "stdin",
     "output_type": "stream",
     "text": [
      "ENTER CHOICE: 2\n"
     ]
    },
    {
     "name": "stdout",
     "output_type": "stream",
     "text": [
      "list of students:\n",
      "Roll Number:2, Name:Siddik, Marks:{'Maths': 90, 'Science': 90}\n",
      "-- MENU --\n",
      "1.Add Student\n",
      "2.View all Students\n",
      "3.Search by roll number\n",
      "4.Delete a record\n",
      "5.Save to file\n",
      "6.load from file\n",
      "7.EXIT!\n"
     ]
    },
    {
     "name": "stdin",
     "output_type": "stream",
     "text": [
      "ENTER CHOICE: 7\n"
     ]
    },
    {
     "name": "stdout",
     "output_type": "stream",
     "text": [
      "EXITED SUCCESSFULLY!\n"
     ]
    }
   ],
   "source": [
    "import json\n",
    "\n",
    "class Student:\n",
    "    def __init__(self, name, roll, marks):\n",
    "        self.n=name\n",
    "        self.r=roll\n",
    "        self.m=marks\n",
    "    def __str__(self):\n",
    "        return f\"Roll Number:{self.r}, Name:{self.n}, Marks:{self.m}\"\n",
    "students=[]\n",
    "\n",
    "def studentlst():\n",
    "    if not students:\n",
    "        print(\"NO students records are avaliable!\")\n",
    "        return\n",
    "    print(\"list of students:\")\n",
    "    for s in students:\n",
    "        print(s)\n",
    "\n",
    "def search():\n",
    "    try:\n",
    "        r=int(input(\"Enter roll number to search:\"))\n",
    "        for s in students:\n",
    "            if s.r==r:\n",
    "                print(\"Record found\")\n",
    "                print(f\"Name: {s.n}\\nRoll number: {s.r}\\nMarks: \")\n",
    "                for sub, mark in s.m.items():\n",
    "                    print(f\" {sub} : {mark}\")\n",
    "                return\n",
    "        print(\"Not found!\")\n",
    "    except ValueError:\n",
    "        print(\"Invalid input enter correct roll number!\")\n",
    "\n",
    "def delete():\n",
    "    try:\n",
    "        r=int(input(\"Enter roll number to delete:\"))\n",
    "        for s in students:\n",
    "            if s.r==r:\n",
    "                students.remove(s)\n",
    "                print(\"Student deleted successfully!\")\n",
    "                return\n",
    "        print(\"Student not found!\")\n",
    "    except ValueError:\n",
    "        print(\"Invalid input enter valid roll number!\")\n",
    "\n",
    "def save_file():\n",
    "    with open(\"students.txt\", \"w\") as f:\n",
    "        json.dump([s.__dict__ for s in students], f)\n",
    "    print(\"Student data saved to file\")\n",
    "\n",
    "def load_file():\n",
    "    try:\n",
    "        with open(\"students.txt\", \"r\") as f:\n",
    "            data =json.load(f)\n",
    "            for s in data:\n",
    "                students.append(Student(s['n'], s['r'], s['m']))\n",
    "        print(\"Student data loaded from file\")\n",
    "    except FileNotFoundError:\n",
    "        print(\"No data file found!\")\n",
    "    except json.decoder.JSONDecodeError:\n",
    "        print(\"File is empty or corrupted!\")\n",
    "\n",
    "def menu():\n",
    "    load_file()\n",
    "    while True:\n",
    "        print(\"-- MENU --\")\n",
    "        print(\"1.Add Student\")\n",
    "        print(\"2.View all Students\")\n",
    "        print(\"3.Search by roll number\")\n",
    "        print(\"4.Delete a record\")\n",
    "        print(\"5.Save to file\")\n",
    "        print(\"6.load from file\")\n",
    "        print(\"7.EXIT!\")\n",
    "        c=int(input(\"ENTER CHOICE:\"))\n",
    "        if c==0 or c>7:\n",
    "            c=int(input(\"ENTER VALID OPTION FROM MENU:\"))\n",
    "            continue\n",
    "        if c==7:\n",
    "            print(\"EXITED SUCCESSFULLY!\")\n",
    "            break\n",
    "        if c==1:\n",
    "            try:\n",
    "                name=input(\"Enter name:\")\n",
    "                roll=int(input(\"Enter roll number:\"))\n",
    "                for s in students:\n",
    "                    if s.r==roll:\n",
    "                        print(\"Roll number already exits!\")\n",
    "                        return\n",
    "                marks={}\n",
    "                s=int(input(\"Enter no of subjects:\"))\n",
    "                for _ in range(s):\n",
    "                    sub=input(\"Enter subject name:\")\n",
    "                    mark=int(input(f\"Enter marks in {sub}:\"))\n",
    "                    marks[sub]=mark\n",
    "                student=Student(name, roll, marks)\n",
    "                students.append(student)\n",
    "                print(\"Student added succesfully!\")\n",
    "            except ValueError:\n",
    "               print(\"Inavalid input enter correct values!\")\n",
    "        elif c==2:\n",
    "            studentlst()\n",
    "        elif c==3:\n",
    "            search()\n",
    "        elif c==4:\n",
    "            delete()\n",
    "        elif c==5:\n",
    "            save_file()\n",
    "        elif c==6:\n",
    "            load_file()\n",
    "menu()"
   ]
  },
  {
   "cell_type": "code",
   "execution_count": null,
   "id": "226c3b59-0ad6-4467-bd20-1008f259b2a6",
   "metadata": {},
   "outputs": [],
   "source": []
  }
 ],
 "metadata": {
  "kernelspec": {
   "display_name": "Python 3 (ipykernel)",
   "language": "python",
   "name": "python3"
  },
  "language_info": {
   "codemirror_mode": {
    "name": "ipython",
    "version": 3
   },
   "file_extension": ".py",
   "mimetype": "text/x-python",
   "name": "python",
   "nbconvert_exporter": "python",
   "pygments_lexer": "ipython3",
   "version": "3.13.5"
  }
 },
 "nbformat": 4,
 "nbformat_minor": 5
}
