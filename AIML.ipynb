{
 "cells": [
  {
   "cell_type": "code",
   "execution_count": 2,
   "id": "75b00869-3b8a-4b1f-be97-7caf9355ab1e",
   "metadata": {},
   "outputs": [],
   "source": [
    "# PYTHON PRACTICE USING JUPYTER"
   ]
  },
  {
   "cell_type": "code",
   "execution_count": 2,
   "id": "fe110da3-afc4-42cf-9762-8fefc6bcb610",
   "metadata": {},
   "outputs": [
    {
     "name": "stdin",
     "output_type": "stream",
     "text": [
      " 3\n",
      " 5\n",
      " 6\n",
      " 7\n"
     ]
    },
    {
     "name": "stdout",
     "output_type": "stream",
     "text": [
      "THE REVERSED LIST IS: \n",
      "[7, 6, 5]\n"
     ]
    }
   ],
   "source": [
    "def reverse(lst):\n",
    "    l=[]\n",
    "    for i in range(0, len(lst)):\n",
    "       l.append(lst[len(lst)-i-1])\n",
    "    print(l)\n",
    "n=int(input())\n",
    "lst=[]\n",
    "for i in range(0, n):\n",
    "    lst.append(int(input()))\n",
    "print(\"THE REVERSED LIST IS: \")\n",
    "reverse(lst)"
   ]
  },
  {
   "cell_type": "code",
   "execution_count": 4,
   "id": "1dfbad8f-abab-4fe2-9572-4ee3259cee41",
   "metadata": {},
   "outputs": [
    {
     "name": "stdin",
     "output_type": "stream",
     "text": [
      " 5\n"
     ]
    },
    {
     "name": "stdout",
     "output_type": "stream",
     "text": [
      "45\n",
      "45\n",
      "45\n",
      "45\n",
      "45\n"
     ]
    }
   ],
   "source": [
    "def sum_numbers():\n",
    "    res = 0\n",
    "    for i in range(1, 10):\n",
    "        res += i\n",
    "    print(res)\n",
    "\n",
    "n = int(input())\n",
    "for i in range(n):\n",
    "    sum_numbers()"
   ]
  },
  {
   "cell_type": "code",
   "execution_count": 2,
   "id": "254485be-0e7c-4618-8308-4eb8f17eab8e",
   "metadata": {},
   "outputs": [
    {
     "name": "stdin",
     "output_type": "stream",
     "text": [
      " 5\n"
     ]
    },
    {
     "name": "stdout",
     "output_type": "stream",
     "text": [
      "THE SQUARE IS:  25\n"
     ]
    }
   ],
   "source": [
    "def square(n):\n",
    "    return n*n\n",
    "n=int(input())\n",
    "s=square(n)\n",
    "print(\"THE SQUARE IS: \",s)"
   ]
  },
  {
   "cell_type": "code",
   "execution_count": 6,
   "id": "0e7b9955-9fbe-42ae-844e-ef811d3b8639",
   "metadata": {},
   "outputs": [
    {
     "name": "stdout",
     "output_type": "stream",
     "text": [
      "ENTER NO OF ELEMENTS:\n"
     ]
    },
    {
     "name": "stdin",
     "output_type": "stream",
     "text": [
      " 4\n"
     ]
    },
    {
     "name": "stdout",
     "output_type": "stream",
     "text": [
      "ENTER ELEMENTS : \n"
     ]
    },
    {
     "name": "stdin",
     "output_type": "stream",
     "text": [
      " 2\n",
      " 3\n",
      " 4\n",
      " 5\n"
     ]
    },
    {
     "name": "stdout",
     "output_type": "stream",
     "text": [
      "THE LIST IS : \n",
      "[2, 3, 4, 5]\n"
     ]
    }
   ],
   "source": [
    "print(\"ENTER NO OF ELEMENTS:\")\n",
    "n=int(input())\n",
    "print(\"ENTER ELEMENTS : \")\n",
    "lst=[]\n",
    "for i in range(0, n):\n",
    "    lst.append(int(input()))\n",
    "print(\"THE LIST IS : \")\n",
    "print(lst)"
   ]
  },
  {
   "cell_type": "code",
   "execution_count": 3,
   "id": "4d9bb247-95fa-4a85-81c0-1a30d627d0cb",
   "metadata": {},
   "outputs": [
    {
     "name": "stdout",
     "output_type": "stream",
     "text": [
      "1.Even number check\n",
      "2.Factorial\n",
      "3.Reverse of number\n",
      "4.Palindrome check\n",
      "5.GCD of two numbers\n",
      "6.EXIT\n"
     ]
    },
    {
     "name": "stdin",
     "output_type": "stream",
     "text": [
      "ENTER CHOICE:  0\n"
     ]
    },
    {
     "name": "stdout",
     "output_type": "stream",
     "text": [
      "ENTER VALID OPTION!\n",
      "1.Even number check\n",
      "2.Factorial\n",
      "3.Reverse of number\n",
      "4.Palindrome check\n",
      "5.GCD of two numbers\n",
      "6.EXIT\n"
     ]
    },
    {
     "name": "stdin",
     "output_type": "stream",
     "text": [
      "ENTER CHOICE:  1\n",
      "ENTER NUMBER:  4\n"
     ]
    },
    {
     "name": "stdout",
     "output_type": "stream",
     "text": [
      "True\n",
      "1.Even number check\n",
      "2.Factorial\n",
      "3.Reverse of number\n",
      "4.Palindrome check\n",
      "5.GCD of two numbers\n",
      "6.EXIT\n"
     ]
    },
    {
     "name": "stdin",
     "output_type": "stream",
     "text": [
      "ENTER CHOICE:  2\n",
      "ENTER NUMBER:  5\n"
     ]
    },
    {
     "name": "stdout",
     "output_type": "stream",
     "text": [
      "120\n",
      "1.Even number check\n",
      "2.Factorial\n",
      "3.Reverse of number\n",
      "4.Palindrome check\n",
      "5.GCD of two numbers\n",
      "6.EXIT\n"
     ]
    },
    {
     "name": "stdin",
     "output_type": "stream",
     "text": [
      "ENTER CHOICE:  3\n",
      "ENTER NUMBER:  345\n"
     ]
    },
    {
     "name": "stdout",
     "output_type": "stream",
     "text": [
      "543\n",
      "1.Even number check\n",
      "2.Factorial\n",
      "3.Reverse of number\n",
      "4.Palindrome check\n",
      "5.GCD of two numbers\n",
      "6.EXIT\n"
     ]
    },
    {
     "name": "stdin",
     "output_type": "stream",
     "text": [
      "ENTER CHOICE:  4\n",
      "ENTER NUMBER:  121\n"
     ]
    },
    {
     "name": "stdout",
     "output_type": "stream",
     "text": [
      "True\n",
      "1.Even number check\n",
      "2.Factorial\n",
      "3.Reverse of number\n",
      "4.Palindrome check\n",
      "5.GCD of two numbers\n",
      "6.EXIT\n"
     ]
    },
    {
     "name": "stdin",
     "output_type": "stream",
     "text": [
      "ENTER CHOICE:  5\n",
      "ENTER 1 ST NUMBER:  18\n",
      "ENTER 2 ND NUMBER:  12\n"
     ]
    },
    {
     "name": "stdout",
     "output_type": "stream",
     "text": [
      "6\n",
      "1.Even number check\n",
      "2.Factorial\n",
      "3.Reverse of number\n",
      "4.Palindrome check\n",
      "5.GCD of two numbers\n",
      "6.EXIT\n"
     ]
    },
    {
     "name": "stdin",
     "output_type": "stream",
     "text": [
      "ENTER CHOICE:  6\n"
     ]
    },
    {
     "name": "stdout",
     "output_type": "stream",
     "text": [
      "EXITED SUCCESSFULLY!\n"
     ]
    }
   ],
   "source": [
    "def is_even(n):\n",
    "    return n%2==0\n",
    "def fact(n):\n",
    "    if n==0:\n",
    "        return 1\n",
    "    else:\n",
    "        return n*fact(n-1)\n",
    "def reverse(n):\n",
    "    rev=0\n",
    "    while n>0:\n",
    "        r=n%10\n",
    "        rev=rev*10+r\n",
    "        n //= 10\n",
    "    return rev\n",
    "def palindrome(n):\n",
    "    return n==reverse(n)\n",
    "def gcd(a, b):\n",
    "    while b:\n",
    "        a, b =b, a%b\n",
    "    return a\n",
    "while True:\n",
    "    print(\"1.Even number check\\n2.Factorial\\n3.Reverse of number\\n4.Palindrome check\\n5.GCD of two numbers\\n6.EXIT\")\n",
    "    c=int(input(\"ENTER CHOICE: \"))\n",
    "    if c==0 or c>6:\n",
    "        print(\"ENTER VALID OPTION!\")\n",
    "        continue\n",
    "    if c>0 and c<5:\n",
    "        n=int(input(\"ENTER NUMBER: \"))\n",
    "    if c==1:\n",
    "        print(is_even(n))\n",
    "    elif c==2:\n",
    "        print(fact(n))\n",
    "    elif c==3:\n",
    "        print(reverse(n))\n",
    "    elif c==4:\n",
    "        print(palindrome(n))\n",
    "    elif c==5:\n",
    "        a=int(input(\"ENTER 1 ST NUMBER: \"))\n",
    "        b=int(input(\"ENTER 2 ND NUMBER: \"))\n",
    "        print(gcd(a, b))\n",
    "    else:\n",
    "        print(\"EXITED SUCCESSFULLY!\")\n",
    "        break"
   ]
  },
  {
   "cell_type": "code",
   "execution_count": null,
   "id": "94a54658-2225-4740-abe4-4bc3b35dd0f9",
   "metadata": {},
   "outputs": [],
   "source": []
  }
 ],
 "metadata": {
  "kernelspec": {
   "display_name": "Python 3 (ipykernel)",
   "language": "python",
   "name": "python3"
  },
  "language_info": {
   "codemirror_mode": {
    "name": "ipython",
    "version": 3
   },
   "file_extension": ".py",
   "mimetype": "text/x-python",
   "name": "python",
   "nbconvert_exporter": "python",
   "pygments_lexer": "ipython3",
   "version": "3.13.5"
  }
 },
 "nbformat": 4,
 "nbformat_minor": 5
}
