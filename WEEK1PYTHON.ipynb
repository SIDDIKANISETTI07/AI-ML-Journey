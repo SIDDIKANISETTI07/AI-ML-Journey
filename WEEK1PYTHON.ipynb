{
 "cells": [
  {
   "cell_type": "code",
   "execution_count": 2,
   "id": "75b00869-3b8a-4b1f-be97-7caf9355ab1e",
   "metadata": {},
   "outputs": [],
   "source": [
    "# Week 1: Python Basics\n",
    "### Date: July 09, 2025\n"
   ]
  },
  {
   "cell_type": "code",
   "execution_count": 2,
   "id": "fe110da3-afc4-42cf-9762-8fefc6bcb610",
   "metadata": {},
   "outputs": [
    {
     "name": "stdin",
     "output_type": "stream",
     "text": [
      " 3\n",
      " 5\n",
      " 6\n",
      " 7\n"
     ]
    },
    {
     "name": "stdout",
     "output_type": "stream",
     "text": [
      "THE REVERSED LIST IS: \n",
      "[7, 6, 5]\n"
     ]
    }
   ],
   "source": [
    "def reverse(lst):\n",
    "    l=[]\n",
    "    for i in range(0, len(lst)):\n",
    "       l.append(lst[len(lst)-i-1])\n",
    "    print(l)\n",
    "n=int(input())\n",
    "lst=[]\n",
    "for i in range(0, n):\n",
    "    lst.append(int(input()))\n",
    "print(\"THE REVERSED LIST IS: \")\n",
    "reverse(lst)"
   ]
  },
  {
   "cell_type": "code",
   "execution_count": 4,
   "id": "1dfbad8f-abab-4fe2-9572-4ee3259cee41",
   "metadata": {},
   "outputs": [
    {
     "name": "stdin",
     "output_type": "stream",
     "text": [
      " 5\n"
     ]
    },
    {
     "name": "stdout",
     "output_type": "stream",
     "text": [
      "45\n",
      "45\n",
      "45\n",
      "45\n",
      "45\n"
     ]
    }
   ],
   "source": [
    "def sum_numbers():\n",
    "    res = 0\n",
    "    for i in range(1, 10):\n",
    "        res += i\n",
    "    print(res)\n",
    "\n",
    "n = int(input())\n",
    "for i in range(n):\n",
    "    sum_numbers()"
   ]
  },
  {
   "cell_type": "code",
   "execution_count": 2,
   "id": "254485be-0e7c-4618-8308-4eb8f17eab8e",
   "metadata": {},
   "outputs": [
    {
     "name": "stdin",
     "output_type": "stream",
     "text": [
      " 5\n"
     ]
    },
    {
     "name": "stdout",
     "output_type": "stream",
     "text": [
      "THE SQUARE IS:  25\n"
     ]
    }
   ],
   "source": [
    "def square(n):\n",
    "    return n*n\n",
    "n=int(input())\n",
    "s=square(n)\n",
    "print(\"THE SQUARE IS: \",s)"
   ]
  },
  {
   "cell_type": "code",
   "execution_count": 6,
   "id": "0e7b9955-9fbe-42ae-844e-ef811d3b8639",
   "metadata": {},
   "outputs": [
    {
     "name": "stdout",
     "output_type": "stream",
     "text": [
      "ENTER NO OF ELEMENTS:\n"
     ]
    },
    {
     "name": "stdin",
     "output_type": "stream",
     "text": [
      " 4\n"
     ]
    },
    {
     "name": "stdout",
     "output_type": "stream",
     "text": [
      "ENTER ELEMENTS : \n"
     ]
    },
    {
     "name": "stdin",
     "output_type": "stream",
     "text": [
      " 2\n",
      " 3\n",
      " 4\n",
      " 5\n"
     ]
    },
    {
     "name": "stdout",
     "output_type": "stream",
     "text": [
      "THE LIST IS : \n",
      "[2, 3, 4, 5]\n"
     ]
    }
   ],
   "source": [
    "print(\"ENTER NO OF ELEMENTS:\")\n",
    "n=int(input())\n",
    "print(\"ENTER ELEMENTS : \")\n",
    "lst=[]\n",
    "for i in range(0, n):\n",
    "    lst.append(int(input()))\n",
    "print(\"THE LIST IS : \")\n",
    "print(lst)"
   ]
  },
  {
   "cell_type": "code",
   "execution_count": null,
   "id": "21312d28-1850-470b-927f-ad819af57b17",
   "metadata": {},
   "outputs": [],
   "source": []
  }
 ],
 "metadata": {
  "kernelspec": {
   "display_name": "Python 3 (ipykernel)",
   "language": "python",
   "name": "python3"
  },
  "language_info": {
   "codemirror_mode": {
    "name": "ipython",
    "version": 3
   },
   "file_extension": ".py",
   "mimetype": "text/x-python",
   "name": "python",
   "nbconvert_exporter": "python",
   "pygments_lexer": "ipython3",
   "version": "3.13.5"
  }
 },
 "nbformat": 4,
 "nbformat_minor": 5
}
