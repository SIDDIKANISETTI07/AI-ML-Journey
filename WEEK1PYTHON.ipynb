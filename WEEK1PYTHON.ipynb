{
 "cells": [
  {
   "cell_type": "code",
   "execution_count": 2,
   "id": "75b00869-3b8a-4b1f-be97-7caf9355ab1e",
   "metadata": {},
   "outputs": [],
   "source": [
    "# Week 1: Python Basics\n",
    "### Date: July 7, 2025\n"
   ]
  },
  {
   "cell_type": "code",
   "execution_count": null,
   "id": "8b6edb82-e20d-4d08-bd7c-014cf7ce1efb",
   "metadata": {},
   "outputs": [],
   "source": []
  }
 ],
 "metadata": {
  "kernelspec": {
   "display_name": "Python 3 (ipykernel)",
   "language": "python",
   "name": "python3"
  },
  "language_info": {
   "codemirror_mode": {
    "name": "ipython",
    "version": 3
   },
   "file_extension": ".py",
   "mimetype": "text/x-python",
   "name": "python",
   "nbconvert_exporter": "python",
   "pygments_lexer": "ipython3",
   "version": "3.13.5"
  }
 },
 "nbformat": 4,
 "nbformat_minor": 5
}
